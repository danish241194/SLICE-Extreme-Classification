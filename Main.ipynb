{
 "cells": [
  {
   "cell_type": "code",
   "execution_count": 1,
   "metadata": {},
   "outputs": [
    {
     "name": "stdout",
     "output_type": "stream",
     "text": [
      "Requirement already satisfied: nmslib in /home/danish/Anacond/lib/python3.7/site-packages (2.0.5)\n",
      "Requirement already satisfied: psutil in /home/danish/Anacond/lib/python3.7/site-packages (from nmslib) (5.6.3)\n",
      "Requirement already satisfied: pybind11>=2.2.3 in /home/danish/Anacond/lib/python3.7/site-packages (from nmslib) (2.4.3)\n",
      "Requirement already satisfied: numpy>=1.10.0 in /home/danish/Anacond/lib/python3.7/site-packages (from nmslib) (1.16.4)\n",
      "Note: you may need to restart the kernel to use updated packages.\n"
     ]
    }
   ],
   "source": [
    "pip install nmslib"
   ]
  },
  {
   "cell_type": "code",
   "execution_count": 3,
   "metadata": {},
   "outputs": [],
   "source": [
    "from google.colab import drive\n",
    "from sklearn.linear_model import LogisticRegression\n",
    "import pickle\n",
    "import numpy as np\n",
    "from math import sqrt\n",
    "import numpy\n",
    "import sys\n",
    "import nmslib\n",
    "import time\n",
    "import math\n",
    "import pdb"
   ]
  },
  {
   "cell_type": "code",
   "execution_count": null,
   "metadata": {},
   "outputs": [],
   "source": [
    "drive.mount('/content/gdrive')"
   ]
  },
  {
   "cell_type": "code",
   "execution_count": null,
   "metadata": {},
   "outputs": [],
   "source": [
    "cd gdrive\n",
    "cd My\\ Drive\n",
    "cd eurlex4k/"
   ]
  }
 ],
 "metadata": {
  "kernelspec": {
   "display_name": "Python 3",
   "language": "python",
   "name": "python3"
  },
  "language_info": {
   "codemirror_mode": {
    "name": "ipython",
    "version": 3
   },
   "file_extension": ".py",
   "mimetype": "text/x-python",
   "name": "python",
   "nbconvert_exporter": "python",
   "pygments_lexer": "ipython3",
   "version": "3.7.3"
  }
 },
 "nbformat": 4,
 "nbformat_minor": 2
}
